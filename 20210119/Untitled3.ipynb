{
 "cells": [
  {
   "cell_type": "code",
   "execution_count": 65,
   "metadata": {},
   "outputs": [
    {
     "name": "stdout",
     "output_type": "stream",
     "text": [
      "홍길동\n",
      "홍길동\n",
      "이름은 : 홍길동, 학과는 : 철학 예요 !\n",
      "<bound method Student.get_student_info of <__main__.Student object at 0x000001589D28A508>>\n",
      "3.0\n",
      "3.0\n",
      "신사임당은 장학생입니다. 축하합니다.\n",
      "홍길동은 장학생이 아닙니다.\n",
      "4.5\n",
      "3.0\n"
     ]
    },
    {
     "ename": "AttributeError",
     "evalue": "'Student' object has no attribute 'change_info'",
     "output_type": "error",
     "traceback": [
      "\u001b[1;31m---------------------------------------------------------------------------\u001b[0m",
      "\u001b[1;31mAttributeError\u001b[0m                            Traceback (most recent call last)",
      "\u001b[1;32m<ipython-input-65-ecf211cd79ed>\u001b[0m in \u001b[0;36m<module>\u001b[1;34m\u001b[0m\n\u001b[0;32m     50\u001b[0m \u001b[0mprint\u001b[0m\u001b[1;33m(\u001b[0m\u001b[0mstu2\u001b[0m\u001b[1;33m.\u001b[0m\u001b[0mscholarship_rate\u001b[0m\u001b[1;33m)\u001b[0m\u001b[1;33m\u001b[0m\u001b[1;33m\u001b[0m\u001b[0m\n\u001b[0;32m     51\u001b[0m \u001b[1;33m\u001b[0m\u001b[0m\n\u001b[1;32m---> 52\u001b[1;33m \u001b[0mstu1\u001b[0m\u001b[1;33m.\u001b[0m\u001b[0mchange_info\u001b[0m\u001b[1;33m(\u001b[0m\u001b[1;34m'강감찬'\u001b[0m\u001b[1;33m,\u001b[0m\u001b[1;34m'영어영문'\u001b[0m\u001b[1;33m)\u001b[0m\u001b[1;33m\u001b[0m\u001b[1;33m\u001b[0m\u001b[0m\n\u001b[0m\u001b[0;32m     53\u001b[0m \u001b[0mprint\u001b[0m\u001b[1;33m(\u001b[0m\u001b[0mstu1\u001b[0m\u001b[1;33m.\u001b[0m\u001b[0mget_student_info\u001b[0m\u001b[1;33m(\u001b[0m\u001b[1;33m)\u001b[0m\u001b[1;33m)\u001b[0m\u001b[1;33m\u001b[0m\u001b[1;33m\u001b[0m\u001b[0m\n\u001b[0;32m     54\u001b[0m \u001b[0mStudent\u001b[0m\u001b[1;33m.\u001b[0m\u001b[0mchange_scholarship_rate\u001b[0m\u001b[1;33m(\u001b[0m\u001b[1;36m4.3\u001b[0m\u001b[1;33m)\u001b[0m\u001b[1;33m\u001b[0m\u001b[1;33m\u001b[0m\u001b[0m\n",
      "\u001b[1;31mAttributeError\u001b[0m: 'Student' object has no attribute 'change_info'"
     ]
    }
   ],
   "source": [
    "class Student(object):\n",
    "    \n",
    "    scholarship_rate = 3.0 #class variable\n",
    "    \n",
    "    def __init__(self,name,dept,grade):\n",
    "        self.name = name #instance variable ->public\n",
    "        self.dept = dept\n",
    "        self.grade = grade\n",
    "        \n",
    "    def get_student_info(self): #instance method\n",
    "        return \"이름은 : {}, 학과는 : {} 예요 !\" .format(self.name,self.dept)\n",
    "    #instance method 변환\n",
    "    def __change_info(self,name,dept):  # ->private 이렇게 하면 method를 통해서만 acces만 가능\n",
    "        self.name = name\n",
    "        self.dept = dept\n",
    "    #class variable 변환.\n",
    "    #class method를 만들려면 특수한 데코레이터를 이용해야 한다.\n",
    "    @classmethod\n",
    "    def change_scholarship_rate(cls,rate):\n",
    "        cls.scholarship_rate = rate\n",
    "    \n",
    "    def is_scholarship(self):\n",
    "        if self.grade >= Student.scholarship_rate:\n",
    "            return \"{}은 장학생입니다. 축하합니다.\".format(self.name)\n",
    "        else:\n",
    "            return \"{}은 장학생이 아닙니다.\".format(self.name)\n",
    "    \n",
    "    #static method를 만들려면 특수한 데코레이터를 이용 class method랑 같음\n",
    "    @staticmethod\n",
    "    def print_hello(): #self 나 cls가 오지 않음\n",
    "        print('hello')\n",
    "        \n",
    "stu1 = Student('홍길동','철학',2.0)\n",
    "stu2 = Student('신사임당','컴퓨터',4.0)\n",
    "print(stu1.name)\n",
    "print(stu1.name)\n",
    "\n",
    "print(stu1.get_student_info())\n",
    "print(stu1.get_student_info)\n",
    "print(Student.scholarship_rate)\n",
    "print(stu1.scholarship_rate)\n",
    "\n",
    "stu1.scholarship_rate = 4.5 # 되도록이면 이렇게 하지말자\n",
    "\n",
    "print(stu2.is_scholarship())\n",
    "print(stu1.is_scholarship())\n",
    "\n",
    "\n",
    "print(stu1.scholarship_rate)\n",
    "print(stu2.scholarship_rate)\n",
    "\n",
    "stu1.change_info('강감찬','영어영문')\n",
    "print(stu1.get_student_info())\n",
    "Student.change_scholarship_rate(4.3)\n",
    "print(Student.scholarship_rate)\n",
    "stu2.print_hello()\n",
    "# 1. instance variable\n",
    "# 2. instance method\n",
    "# 3. class variable\n",
    "# 4. class method\n",
    "# 5. static method\n",
    "\n",
    "# public vs private\n",
    "# public : 어디에서나 사용할 수 있는 경우를 지칭\n",
    "#          속성과 함수를 사용할 수 있는 경우를 지칭\n",
    "\n",
    "# stu1.name = \"이황\" 바람직하지는 않지만 틀린건 아님"
   ]
  },
  {
   "cell_type": "code",
   "execution_count": 67,
   "metadata": {},
   "outputs": [
    {
     "name": "stdout",
     "output_type": "stream",
     "text": [
      "smoker\n",
      "marine\n",
      "True\n"
     ]
    },
    {
     "ename": "TypeError",
     "evalue": "'Fight' object is not callable",
     "output_type": "error",
     "traceback": [
      "\u001b[1;31m---------------------------------------------------------------------------\u001b[0m",
      "\u001b[1;31mTypeError\u001b[0m                                 Traceback (most recent call last)",
      "\u001b[1;32m<ipython-input-67-6bc411537f26>\u001b[0m in \u001b[0;36m<module>\u001b[1;34m\u001b[0m\n\u001b[0;32m     22\u001b[0m \u001b[0mprint\u001b[0m\u001b[1;33m(\u001b[0m\u001b[0mmarine_1\u001b[0m\u001b[1;33m.\u001b[0m\u001b[0moccupation\u001b[0m\u001b[1;33m)\u001b[0m\u001b[1;33m\u001b[0m\u001b[1;33m\u001b[0m\u001b[0m\n\u001b[0;32m     23\u001b[0m \u001b[0mprint\u001b[0m\u001b[1;33m(\u001b[0m\u001b[0mmarine_1\u001b[0m\u001b[1;33m.\u001b[0m\u001b[0moffense_upgrade\u001b[0m\u001b[1;33m)\u001b[0m\u001b[1;33m\u001b[0m\u001b[1;33m\u001b[0m\u001b[0m\n\u001b[1;32m---> 24\u001b[1;33m \u001b[0mprint\u001b[0m\u001b[1;33m(\u001b[0m\u001b[0mmarine_1\u001b[0m\u001b[1;33m(\u001b[0m\u001b[1;33m)\u001b[0m\u001b[1;33m)\u001b[0m\u001b[1;33m\u001b[0m\u001b[1;33m\u001b[0m\u001b[0m\n\u001b[0m",
      "\u001b[1;31mTypeError\u001b[0m: 'Fight' object is not callable"
     ]
    }
   ],
   "source": [
    "# 상위 클래스(super class, parent class, base class)\n",
    "\n",
    "class Unit(object):\n",
    "    def __init__(self,occupation,damage,life):\n",
    "        self.occupation = occupation\n",
    "        self.utype = self.__class__.__name__\n",
    "        self.damage = damage\n",
    "        self.life = life\n",
    "        \n",
    "seominha = Unit('smoker',5,80)\n",
    "kimsunhong = Unit('pig',40,92)\n",
    "\n",
    "print(seominha.occupation)\n",
    "\n",
    "#하위 class(sub class, child class)\n",
    "class Fight(Unit):\n",
    "    def __init__(self,occupation,damage,life,offense_upgrade):\n",
    "        super(Fight, self).__init__(occupation,damage,life)\n",
    "        self.offense_upgrade = offense_upgrade\n",
    "\n",
    "marine_1 = Fight('marine',100,200,True)\n",
    "print(marine_1.occupation)\n",
    "print(marine_1.offense_upgrade)\n",
    "print(marine_1())"
   ]
  },
  {
   "cell_type": "code",
   "execution_count": 60,
   "metadata": {
    "scrolled": true
   },
   "outputs": [
    {
     "name": "stdout",
     "output_type": "stream",
     "text": [
      "객체가 생성됩니다!!\n",
      "객체가 삭제\n"
     ]
    }
   ],
   "source": [
    "class Student(object):\n",
    "    def __init__(self,name,dept):\n",
    "        print('객체가 생성됩니다!!')\n",
    "        self.name = name\n",
    "        self.dept = dept\n",
    "        \n",
    "    def __del__(self):\n",
    "        print('객체가 삭제')\n",
    "    \n",
    "    def __str__(self):\n",
    "        \n",
    "\n",
    "stu1 = Student('홍길동','영어영문')\n",
    "\n",
    "del stu1"
   ]
  },
  {
   "cell_type": "code",
   "execution_count": null,
   "metadata": {},
   "outputs": [],
   "source": [
    "# 이번에는 module에 대해서 알아보아요!!\n",
    "# module : 함수나 변수 혹은 클래스를 모아놓은 파일을 지칭\n"
   ]
  },
  {
   "cell_type": "code",
   "execution_count": 7,
   "metadata": {},
   "outputs": [
    {
     "name": "stdout",
     "output_type": "stream",
     "text": [
      "3.141592\n",
      "30\n",
      "please work\n"
     ]
    }
   ],
   "source": [
    "import module1\n",
    "import network.my_network_module # 폴더 경로 다 써줘야 함\n",
    "\n",
    "print(module1.my_pi)\n",
    "print(module1.my_sum(10,20))\n",
    "\n",
    "print(network.my_network_module.variable)"
   ]
  }
 ],
 "metadata": {
  "kernelspec": {
   "display_name": "Python [conda env:data_env] *",
   "language": "python",
   "name": "conda-env-data_env-py"
  },
  "language_info": {
   "codemirror_mode": {
    "name": "ipython",
    "version": 3
   },
   "file_extension": ".py",
   "mimetype": "text/x-python",
   "name": "python",
   "nbconvert_exporter": "python",
   "pygments_lexer": "ipython3",
   "version": "3.7.9"
  }
 },
 "nbformat": 4,
 "nbformat_minor": 4
}
