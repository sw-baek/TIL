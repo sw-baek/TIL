{
 "cells": [
  {
   "cell_type": "code",
   "execution_count": 1,
   "metadata": {},
   "outputs": [
    {
     "name": "stdout",
     "output_type": "stream",
     "text": [
      "미분한 결과값은 : 6.000000000039306\n"
     ]
    }
   ],
   "source": [
    "# 입력으로 들어오는 x에서 아주 미세하게 변화할때\n",
    "# 함수 f가 얼마나 변하는지에 대해 수치적으로 계산해보아요!\n",
    "\n",
    "# 아래의 함수는 인자를 2개 받아요.\n",
    "# 한개는 미분하려는 함수, 특정 점에서 미분값을 구하기 위한 x값.\n",
    "def numerical_derivative(f,x):\n",
    "    \n",
    "    # f : 미분하려는 함수\n",
    "    # x : 미분값을 알고자하는 입력값.\n",
    "    # delta_x => 극한에 해당하는 값으로 아주 작은값을 이용.\n",
    "    #            1e-8이하로 지정하면 소수점 연산 오류가 발생.\n",
    "    #            일반적으로 1e-5정도로 설정하면 되요\n",
    "    delta_x = 1e-5\n",
    "    \n",
    "    return (f(x+delta_x) - f(x-delta_x)) / (2 * delta_x)\n",
    "    \n",
    "    \n",
    "# 미분하려는 함수가 있어야 해요! (단변수 함수)\n",
    "def my_func(x):\n",
    "    \n",
    "    return x ** 2     # f(x) = x^2\n",
    "\n",
    "result = numerical_derivative(my_func,3)\n",
    "\n",
    "print('미분한 결과값은 : {}'.format(result))  # 6.000000000039306"
   ]
  },
  {
   "cell_type": "code",
   "execution_count": 23,
   "metadata": {},
   "outputs": [
    {
     "name": "stdout",
     "output_type": "stream",
     "text": [
      "현재의 idx : (0,)\n",
      "현재 temp : 1.0\n",
      "현재의 idx : (1,)\n",
      "현재 temp : 2.0\n",
      "미분한 결과는 : [ 8.         15.00000001]\n"
     ]
    }
   ],
   "source": [
    "### 일반적으로 다변수 함수의 수치미분 코드를 이용합니다.\n",
    "\n",
    "# 입력변수가 2개 이상인 다변수 함수인 경우\n",
    "# 입력변수는 서로 독립이기 때문에 수치미분 역시 변수의 개수만큼 개별적으로\n",
    "# 진행해야 해요!\n",
    "\n",
    "import numpy as np\n",
    "\n",
    "def numerical_derivative(f,x):\n",
    "    \n",
    "    # f : 미분하려고 하는 다변수 함수\n",
    "    # x : 모든 값을 포함하는 numpy array  ex) f'(1.0, 2.0) = (8.0, 15.0)\n",
    "    delta_x = 1e-4\n",
    "    derivative_x = np.zeros_like(x)    # [0 0]\n",
    "    \n",
    "    it = np.nditer(x, flags=['multi_index'])\n",
    "    \n",
    "    while not it.finished:\n",
    "        \n",
    "        idx = it.multi_index   # 현재의 iterator의 index를 추출 => tuple형태로 나와요\n",
    "        print('현재의 idx : {}'.format(idx))        \n",
    "        \n",
    "        tmp = x[idx]     # 현재 index의 값을 잠시 보존.\n",
    "                         # delta_x를 이용한 값으로 ndarray를 수정한 후 편미분을 계산\n",
    "                         # 함수값을 계산한 후 원상복구를 해 줘야 다음 독립변수에\n",
    "                         # 대한 편미분을 정상적으로 수행할 수 있어요!\n",
    "        print('현재 temp : {}'.format(tmp))   \n",
    "        x[idx] = tmp + delta_x        \n",
    "        fx_plus_delta = f(x)    # f([1.00001, 2.0])   => f(x + delta_x)\n",
    "        \n",
    "\n",
    "        x[idx] = tmp - delta_x\n",
    "        fx_minus_delta = f(x)    # f([0.99999, 2.0])   => f(x - delta_x)\n",
    "        \n",
    "        derivative_x[idx] = (fx_plus_delta - fx_minus_delta) / (2 * delta_x)\n",
    "        \n",
    "        x[idx] = tmp\n",
    "        \n",
    "        it.iternext()\n",
    "        \n",
    "    return derivative_x\n",
    "\n",
    "\n",
    "# # 미분하려는 함수가 있어야 해요! (단변수 함수)\n",
    "# def my_func(x):\n",
    "    \n",
    "#     return x ** 2     # f(x) = x^2\n",
    "\n",
    "# param = np.array([3.0])\n",
    "\n",
    "# 미분하려는 함수가 있어야 해요! (다변수 함수)\n",
    "def my_func(input_data):\n",
    "    \n",
    "    x = input_data[0]\n",
    "    y = input_data[1]\n",
    "    return 2*x + 3*x*y + np.power(y,3)     # f(x) = 2x + 3xy + y^3\n",
    "\n",
    "\n",
    "param = np.array([1.0,2.0])\n",
    "result = numerical_derivative(my_func,param)\n",
    "print('미분한 결과는 : {}'.format(result))"
   ]
  },
  {
   "cell_type": "code",
   "execution_count": null,
   "metadata": {},
   "outputs": [],
   "source": [
    "# Regression(회귀)\n",
    "\n",
    "# Regression Model(회귀모델)은\n",
    "# 어떠한 데이터에 대해서\n",
    "# 그 값에 영향을 주는 조건을 고려하여\n",
    "# 데이터의 평균을 구하기 위한 함수\n",
    "\n",
    "# 평균이라는 표현은 어떤의미로 사용하나요??\n",
    "# => 이 평균적으로라는 표현은 대표성을 나타내요!!\n",
    "\n",
    "# Regression Model(회귀모델)은\n",
    "# 어떠한 데이터에 대해서\n",
    "# 그 값에 영향을 주는 조건을 고려하여\n",
    "# 그 데이터를 가장 잘 표현하는 함수"
   ]
  }
 ],
 "metadata": {
  "kernelspec": {
   "display_name": "Python [conda env:data_env] *",
   "language": "python",
   "name": "conda-env-data_env-py"
  },
  "language_info": {
   "codemirror_mode": {
    "name": "ipython",
    "version": 3
   },
   "file_extension": ".py",
   "mimetype": "text/x-python",
   "name": "python",
   "nbconvert_exporter": "python",
   "pygments_lexer": "ipython3",
   "version": "3.7.9"
  }
 },
 "nbformat": 4,
 "nbformat_minor": 4
}
