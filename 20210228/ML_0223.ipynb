{
 "cells": [
  {
   "cell_type": "code",
   "execution_count": 10,
   "metadata": {},
   "outputs": [
    {
     "data": {
      "text/html": [
       "<div>\n",
       "<style scoped>\n",
       "    .dataframe tbody tr th:only-of-type {\n",
       "        vertical-align: middle;\n",
       "    }\n",
       "\n",
       "    .dataframe tbody tr th {\n",
       "        vertical-align: top;\n",
       "    }\n",
       "\n",
       "    .dataframe thead th {\n",
       "        text-align: right;\n",
       "    }\n",
       "</style>\n",
       "<table border=\"1\" class=\"dataframe\">\n",
       "  <thead>\n",
       "    <tr style=\"text-align: right;\">\n",
       "      <th></th>\n",
       "      <th>공부시간(x)</th>\n",
       "      <th>시험점수(t)</th>\n",
       "    </tr>\n",
       "  </thead>\n",
       "  <tbody>\n",
       "    <tr>\n",
       "      <th>0</th>\n",
       "      <td>1</td>\n",
       "      <td>5</td>\n",
       "    </tr>\n",
       "    <tr>\n",
       "      <th>1</th>\n",
       "      <td>2</td>\n",
       "      <td>7</td>\n",
       "    </tr>\n",
       "    <tr>\n",
       "      <th>2</th>\n",
       "      <td>3</td>\n",
       "      <td>20</td>\n",
       "    </tr>\n",
       "    <tr>\n",
       "      <th>3</th>\n",
       "      <td>4</td>\n",
       "      <td>31</td>\n",
       "    </tr>\n",
       "    <tr>\n",
       "      <th>4</th>\n",
       "      <td>7</td>\n",
       "      <td>40</td>\n",
       "    </tr>\n",
       "  </tbody>\n",
       "</table>\n",
       "</div>"
      ],
      "text/plain": [
       "   공부시간(x)  시험점수(t)\n",
       "0        1        5\n",
       "1        2        7\n",
       "2        3       20\n",
       "3        4       31\n",
       "4        7       40"
      ]
     },
     "metadata": {},
     "output_type": "display_data"
    },
    {
     "data": {
      "image/png": "[encoded data removed]",
      "text/plain": [
       "<Figure size 432x288 with 1 Axes>"
      ]
     },
     "metadata": {
      "needs_background": "light"
     },
     "output_type": "display_data"
    }
   ],
   "source": [
    "import numpy as np\n",
    "import pandas as pd\n",
    "import matplotlib.pyplot as plt\n",
    "\n",
    "my_dict = {\n",
    "    '공부시간(x)' : [1,2,3,4,7,8,10,12,13,14,15,18,20,25,28,30],\n",
    "    '시험점수(t)' : [5,7,20,31,40,44,45,46,49,60,70,82,85,91,97,99]\n",
    "}\n",
    "\n",
    "df = pd.DataFrame(my_dict)\n",
    "\n",
    "display(df.head())\n",
    "\n",
    "plt.scatter(df['공부시간(x)'],df['시험점수(t)'])\n",
    "\n",
    "# 직선을 그릴꺼예요!\n",
    "# plt.plot(df['공부시간(x)'],df['공부시간(x)']*2 + 3, color='r')\n",
    "# plt.plot(df['공부시간(x)'],df['공부시간(x)']*5 - 7, color='g')\n",
    "# plt.plot(df['공부시간(x)'],df['공부시간(x)']*1 + 8, color='b')\n",
    "plt.plot(df['공부시간(x)'],df['공부시간(x)']*5 - 10, color='magenta')\n",
    "\n",
    "plt.show()\n",
    "\n"
   ]
  },
  {
   "cell_type": "code",
   "execution_count": 11,
   "metadata": {},
   "outputs": [
    {
     "name": "stdout",
     "output_type": "stream",
     "text": [
      "Once deleted, variables cannot be recovered. Proceed (y/[n])? y\n"
     ]
    }
   ],
   "source": [
    "# 독립변수가 1개인 단순선형회귀(Simple Linear Regression)모델에 대해서\n",
    "# 알아보고 있어요!\n",
    "# 이론적으로 이해한 내용을 코드로 표현해 보아요!\n",
    "\n",
    "# 1. Training Data Set 준비 : ndarray를 이용해서 데이터셋을 사용할꺼예요!\n",
    "# 2. Linear Regression Model을 정의 : \n",
    "#    - Weight와 bias를 정의하고 이를 이용해서 Hypothesis(Model)을 정의해요!\n",
    "# 3. Loss function 정의 : 손실함수(Loss function)을 코드로 표현\n",
    "# 4. learning rate를 정의 : 일반적으로 customizing해야 하는 값으로\n",
    "#                           1e-3정도로 설정해서 사용.\n",
    "# 5. 학습을 진행 : 반복적으로 편미분을 이용해서 W와 b의 값을 update처리\n",
    "#\n",
    "\n",
    "# Tensorflow를 이용해서 구현하는걸로 해요!!\n",
    "# python코드로 작성하려니 너무 힘들어요!\n",
    "\n",
    "%reset\n",
    "\n",
    "import numpy as np\n",
    "\n",
    "# 0. 수치미분 코드\n",
    "def numerical_derivative(f,x):\n",
    "    \n",
    "    # f : 미분하려고 하는 다변수 함수\n",
    "    # x : 모든 값을 포함하는 numpy array  ex) f'(1.0, 2.0) = (8.0, 15.0)\n",
    "    delta_x = 1e-4\n",
    "    derivative_x = np.zeros_like(x)    # [0 0]\n",
    "    \n",
    "    it = np.nditer(x, flags=['multi_index'])\n",
    "    \n",
    "    while not it.finished:\n",
    "        \n",
    "        idx = it.multi_index   # 현재의 iterator의 index를 추출 => tuple형태로 나와요\n",
    "        print('현재의 idx : {}'.format(idx))        \n",
    "        \n",
    "        tmp = x[idx]     # 현재 index의 값을 잠시 보존.\n",
    "                         # delta_x를 이용한 값으로 ndarray를 수정한 후 편미분을 계산\n",
    "                         # 함수값을 계산한 후 원상복구를 해 줘야 다음 독립변수에\n",
    "                         # 대한 편미분을 정상적으로 수행할 수 있어요!\n",
    "        print('현재 temp : {}'.format(tmp))   \n",
    "        x[idx] = tmp + delta_x        \n",
    "        fx_plus_delta = f(x)    # f([1.00001, 2.0])   => f(x + delta_x)\n",
    "        \n",
    "\n",
    "        x[idx] = tmp - delta_x\n",
    "        fx_minus_delta = f(x)    # f([0.99999, 2.0])   => f(x - delta_x)\n",
    "        \n",
    "        derivative_x[idx] = (fx_plus_delta - fx_minus_delta) / (2 * delta_x)\n",
    "        \n",
    "        x[idx] = tmp\n",
    "        \n",
    "        it.iternext()\n",
    "        \n",
    "    return derivative_x\n",
    "\n",
    "\n",
    "# 1. Training Data Set\n",
    "x_data = np.array([1,2,3,4,5]).reshape(5,1)\n",
    "t_data = np.array([3,5,7,9,11]).reshape(5,1)\n",
    "\n",
    "# 2-1. Weight & bias 정의\n",
    "W = np.random.rand(1,1)\n",
    "b = np.random.rand(1)\n",
    "\n",
    "# 2-2. 학습종료 후 임의의 데이터에 대해서 예측값을 알아오는 함수\n",
    "def predict(x):\n",
    "    \n",
    "    y = np.dot(x,W) + b   # Hypothesis\n",
    "    \n",
    "    return y\n",
    "\n",
    "# 3. Loss function 정의\n",
    "#    ???\n",
    "def loss_func():\n",
    "    pass\n",
    "\n",
    "\n"
   ]
  },
  {
   "cell_type": "code",
   "execution_count": 18,
   "metadata": {},
   "outputs": [
    {
     "name": "stdout",
     "output_type": "stream",
     "text": [
      "1.15.0\n",
      "Hello World\n"
     ]
    }
   ],
   "source": [
    "# Tensorflow를 이용해서 배운 이론을 실제로 구현해 보아요!\n",
    "# Tensorflow는 Google이 만든 Deep Library\n",
    "# Tensorflow는 1.x버전과 2.x버전으로 나뉘어져요!\n",
    "# 2019년 10월 Tensorflow 2.x버전이 정식으로 release\n",
    "# 1.x버전은 low level의 코딩이 필요!\n",
    "# 2.x버전은 상위 API(Keras)가 기본으로 포함. => 구현이 쉬워요!\n",
    "# 사용하기 위해서 라이브러리부터 설치를 해야 하겠죠!!\n",
    "\n",
    "import tensorflow as tf\n",
    "print(tf.__version__)\n",
    "\n",
    "node1 = tf.constant('Hello World')\n",
    "\n",
    "# 그래프를 실행하려면 1.x버전에서는 session이 필요\n",
    "# session은 그래프안의 특정 노드를 실행시킬 수 있어요!\n",
    "sess = tf.Session()\n",
    "\n",
    "print(sess.run(node1).decode())\n",
    "\n",
    "# print(node1)  # Tensor(\"Const:0\", shape=(), dtype=string)"
   ]
  },
  {
   "cell_type": "code",
   "execution_count": 20,
   "metadata": {},
   "outputs": [
    {
     "name": "stdout",
     "output_type": "stream",
     "text": [
      "[40.0, 10.0]\n"
     ]
    }
   ],
   "source": [
    "import tensorflow as tf\n",
    "\n",
    "node1 = tf.constant(10, dtype=tf.float32)\n",
    "node2 = tf.constant(30, dtype=tf.float32)\n",
    "\n",
    "node3 = node1 + node2\n",
    "\n",
    "# session은 tensorflow 그래프를 실행시키기 위해서 필요!\n",
    "# 1.x버전에서만 사용되요. 2.x버전에서는 삭제\n",
    "sess = tf.Session()\n",
    "\n",
    "print(sess.run([node3, node1]))"
   ]
  }
 ],
 "metadata": {
  "kernelspec": {
   "display_name": "Python [conda env:data_env] *",
   "language": "python",
   "name": "conda-env-data_env-py"
  },
  "language_info": {
   "codemirror_mode": {
    "name": "ipython",
    "version": 3
   },
   "file_extension": ".py",
   "mimetype": "text/x-python",
   "name": "python",
   "nbconvert_exporter": "python",
   "pygments_lexer": "ipython3",
   "version": "3.7.9"
  }
 },
 "nbformat": 4,
 "nbformat_minor": 4
}
