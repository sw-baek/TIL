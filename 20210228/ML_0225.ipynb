{
 "cells": [
  {
   "cell_type": "code",
   "execution_count": 15,
   "metadata": {},
   "outputs": [
    {
     "data": {
      "text/plain": [
       "(116, 2)"
      ]
     },
     "metadata": {},
     "output_type": "display_data"
    },
    {
     "name": "stdout",
     "output_type": "stream",
     "text": [
      "W : [[0.5777743]], b : [-0.4417297], loss : 865.7070922851562\n",
      "W : [[0.7284522]], b : [-12.648489], loss : 814.3255615234375\n",
      "W : [[0.87006927]], b : [-23.8385], loss : 772.553466796875\n",
      "W : [[0.9998807]], b : [-34.095676], loss : 737.4526977539062\n",
      "W : [[1.1188967]], b : [-43.49985], loss : 707.95166015625\n",
      "W : [[1.2279793]], b : [-52.11911], loss : 683.1646728515625\n",
      "W : [[1.3279867]], b : [-60.021294], loss : 662.3325805664062\n",
      "W : [[1.4195956]], b : [-67.25986], loss : 644.8387451171875\n",
      "W : [[1.503619]], b : [-73.89905], loss : 630.129150390625\n",
      "W : [[1.5807611]], b : [-79.9945], loss : 617.7493896484375\n"
     ]
    }
   ],
   "source": [
    "# Ozone data를 이용해서 Simple Linear Regression을 구현\n",
    "# tensorflow를 이용해서 구현해 보아요!\n",
    "\n",
    "import numpy as np\n",
    "import pandas as pd\n",
    "import tensorflow as tf\n",
    "\n",
    "# 1. trainig data set\n",
    "df = pd.read_csv('./ozone.csv')\n",
    "# display(df)\n",
    "trainig_data = df[['Temp','Ozone']]\n",
    "# display(trainig_data)   # (153, 2)\n",
    "# 결측치가 존재해요!(NaN이 존재)\n",
    "# 결측치를 해결해야 해요! => 가장 쉬운방법 -> 삭제!\n",
    "#                         => 다른방법 -> 평균, 최대, 최소 \n",
    "#                         => 조금더 나은방법 => ML을 이용해 예측한 값을 이용\n",
    "# 삭제할꺼예요!!\n",
    "trainig_data = trainig_data.dropna(how='any')\n",
    "display(trainig_data.shape) # (116, 2)  너무 많이 삭제되었어요..좋지 않아요!\n",
    "\n",
    "# 이상치를 처리해야 해요!\n",
    "# 이상치가 존재하면 학습의 결과가 크게 왜곡될 수 있어요!\n",
    "# 일단은 이상치 처리를 하지 않을꺼예요!\n",
    "\n",
    "x_data = trainig_data['Temp'].values.reshape(-1,1)\n",
    "# print(x_data)\n",
    "t_data = trainig_data['Ozone'].values.reshape(-1,1)\n",
    "\n",
    "# 2. placeholder\n",
    "X = tf.placeholder(shape=[None,1], dtype=tf.float32)\n",
    "T = tf.placeholder(shape=[None,1], dtype=tf.float32)\n",
    "\n",
    "# 3. Weight & bias \n",
    "W = tf.Variable(tf.random.normal([1,1]), name='weight')\n",
    "b = tf.Variable(tf.random.normal([1]), name='bias')\n",
    "\n",
    "# 4. Hypothesis (predict model)\n",
    "H = tf.matmul(X,W) + b\n",
    "\n",
    "# 5. loss function\n",
    "loss = tf.reduce_mean(tf.square(H - T))\n",
    "\n",
    "# 6. train\n",
    "train = tf.train.GradientDescentOptimizer(learning_rate=1e-4).minimize(loss)\n",
    "\n",
    "# 7. session, 초기화\n",
    "sess = tf.Session()\n",
    "sess.run(tf.global_variables_initializer())\n",
    "\n",
    "# 8. 학습\n",
    "for step in range(300000):\n",
    "    \n",
    "    _, W_val, b_val, loss_val = sess.run([train, W, b, loss], \n",
    "                                         feed_dict={X: x_data, T: t_data})\n",
    "    if step % 30000 == 0:\n",
    "        print('W : {}, b : {}, loss : {}'.format(W_val, b_val, loss_val))"
   ]
  },
  {
   "cell_type": "code",
   "execution_count": 19,
   "metadata": {},
   "outputs": [
    {
     "data": {
      "image/png": "[encoded data removed]",
      "text/plain": [
       "<Figure size 432x288 with 1 Axes>"
      ]
     },
     "metadata": {
      "needs_background": "light"
     },
     "output_type": "display_data"
    },
    {
     "name": "stdout",
     "output_type": "stream",
     "text": [
      "[[49.838455]]\n"
     ]
    }
   ],
   "source": [
    "import matplotlib.pyplot as plt\n",
    "\n",
    "plt.scatter(x_data, t_data)\n",
    "plt.plot(x_data, x_data*W_val.ravel() + b_val, color='r')\n",
    "plt.show()\n",
    "\n",
    "# prediction\n",
    "result = sess.run(H, feed_dict={X: [[82]]})\n",
    "print(result)   # [[49.838455]]    ?? 맞는거야 틀린거야 ??\n"
   ]
  },
  {
   "cell_type": "code",
   "execution_count": 23,
   "metadata": {},
   "outputs": [
    {
     "name": "stdout",
     "output_type": "stream",
     "text": [
      "W: [[2.4287033]], b: [-146.99549097]\n",
      "[[52.15818003]]\n"
     ]
    },
    {
     "data": {
      "image/png": "[encoded data removed]",
      "text/plain": [
       "<Figure size 432x288 with 1 Axes>"
      ]
     },
     "metadata": {
      "needs_background": "light"
     },
     "output_type": "display_data"
    }
   ],
   "source": [
    "# 믿고쓰는 sklearn을 이용해서 해당 data를 학습시키고 predict해 보아요!\n",
    "\n",
    "import numpy as np\n",
    "import pandas as pd\n",
    "import matplotlib.pyplot as plt\n",
    "from sklearn import linear_model\n",
    "\n",
    "# 1. trainig data set\n",
    "df = pd.read_csv('./ozone.csv')\n",
    "trainig_data = df[['Temp','Ozone']]\n",
    "trainig_data = trainig_data.dropna(how='any')\n",
    "x_data = trainig_data['Temp'].values.reshape(-1,1)\n",
    "t_data = trainig_data['Ozone'].values.reshape(-1,1)\n",
    "\n",
    "# 2. model 생성\n",
    "model = linear_model.LinearRegression()\n",
    "\n",
    "# 3. model을 학습\n",
    "model.fit(x_data,t_data)\n",
    "\n",
    "# 4. Weight, bias 출력\n",
    "# tensorflow 구현 : W : [[1.5807611]], b : [-79.9945]\n",
    "# sklearn 구현 : W: [[2.4287033]], b: [-146.99549097]\n",
    "print('W: {}, b: {}'.format(model.coef_, model.intercept_))\n",
    "\n",
    "# predict\n",
    "# tensorflow : [[49.838455]]\n",
    "# sklearn : [[52.15818003]]\n",
    "print(model.predict([[82]]))\n",
    "\n",
    "plt.scatter(x_data, t_data)\n",
    "plt.plot(x_data, x_data*W_val.ravel() + b_val, color='r')\n",
    "plt.plot(x_data, x_data*model.coef_.ravel() + model.intercept_, color='b')\n",
    "plt.show()\n"
   ]
  }
 ],
 "metadata": {
  "kernelspec": {
   "display_name": "Python [conda env:data_env] *",
   "language": "python",
   "name": "conda-env-data_env-py"
  },
  "language_info": {
   "codemirror_mode": {
    "name": "ipython",
    "version": 3
   },
   "file_extension": ".py",
   "mimetype": "text/x-python",
   "name": "python",
   "nbconvert_exporter": "python",
   "pygments_lexer": "ipython3",
   "version": "3.7.9"
  }
 },
 "nbformat": 4,
 "nbformat_minor": 4
}
